{
 "cells": [
  {
   "cell_type": "code",
   "execution_count": 6,
   "id": "6c70c1d6",
   "metadata": {},
   "outputs": [
    {
     "name": "stdout",
     "output_type": "stream",
     "text": [
      "\n",
      "                 _36___\n",
      "                /      \\\n",
      "  _____________30      _44\n",
      " /                    /   \\\n",
      "19                   40    60\n",
      "  \\                          \\\n",
      "   21___                      61\n",
      "        \\                       \\\n",
      "        _24                      62\n",
      "       /   \\                       \\\n",
      "      23    26                      63\n",
      "                                      \\\n",
      "                                       64\n",
      "\n"
     ]
    }
   ],
   "source": [
    "from binarytree import Node\n",
    "\n",
    "root =Node(36)\n",
    "root.left=Node(30)\n",
    "root.left.left=Node(19)\n",
    "root.left.left.right=Node(21)\n",
    "root.left.left.right.right=Node(24)\n",
    "root.left.left.right.right.left=Node(23)\n",
    "root.left.left.right.right.right=Node(26)\n",
    "\n",
    "root.right=Node(44)\n",
    "root.right.left=Node(40)\n",
    "root.right.right=Node(60)\n",
    "root.right.right.right=Node(61)\n",
    "root.right.right.right.right=Node(62)\n",
    "root.right.right.right.right.right=Node(63)\n",
    "root.right.right.right.right.right.right=Node(64)\n",
    "\n",
    "\n",
    "print(root)"
   ]
  },
  {
   "cell_type": "code",
   "execution_count": 7,
   "id": "f3da0343",
   "metadata": {},
   "outputs": [
    {
     "name": "stdout",
     "output_type": "stream",
     "text": [
      "Requirement already satisfied: graphviz in d:\\anaconda\\lib\\site-packages (0.20.1)\n"
     ]
    }
   ],
   "source": []
  },
  {
   "cell_type": "code",
   "execution_count": 12,
   "id": "b470c441",
   "metadata": {},
   "outputs": [
    {
     "name": "stdout",
     "output_type": "stream",
     "text": [
      "Node('/ali')\n",
      "ali\n",
      "├── hassan\n",
      "└── hussain\n"
     ]
    }
   ],
   "source": [
    "#this tree is is extremly long so we will take shorter example for any tree\n",
    "\n",
    "from anytree import Node, RenderTree\n",
    "\n",
    "ali=Node(\"ali\")\n",
    "hassan=Node(\"hassan\",parent=ali)\n",
    "hussain=Node(\"hussain\",parent=ali)\n",
    "\n",
    "print(ali)\n",
    "\n",
    "for pre, fill, node in RenderTree(ali):\n",
    "    print(\"%s%s\" % (pre, node.name))"
   ]
  },
  {
   "cell_type": "code",
   "execution_count": 16,
   "id": "518e87ea",
   "metadata": {},
   "outputs": [
    {
     "name": "stdout",
     "output_type": "stream",
     "text": [
      "Ali\n",
      "├── Hassan\n",
      "└── Hussain\n",
      "\n"
     ]
    }
   ],
   "source": [
    "from treelib import Node, Tree\n",
    "tree = Tree()\n",
    "tree.create_node(\"Ali\", \"ali\")  # root node\n",
    "tree.create_node(\"Hassan\", \"hassan\", parent=\"ali\")\n",
    "tree.create_node(\"Hussain\", \"hussain\", parent=\"ali\")\n",
    "tree.show()"
   ]
  },
  {
   "cell_type": "code",
   "execution_count": null,
   "id": "1241be1c",
   "metadata": {},
   "outputs": [],
   "source": [
    "#how is turtle used to animate BST ?"
   ]
  }
 ],
 "metadata": {
  "kernelspec": {
   "display_name": "Python 3 (ipykernel)",
   "language": "python",
   "name": "python3"
  },
  "language_info": {
   "codemirror_mode": {
    "name": "ipython",
    "version": 3
   },
   "file_extension": ".py",
   "mimetype": "text/x-python",
   "name": "python",
   "nbconvert_exporter": "python",
   "pygments_lexer": "ipython3",
   "version": "3.9.12"
  }
 },
 "nbformat": 4,
 "nbformat_minor": 5
}
